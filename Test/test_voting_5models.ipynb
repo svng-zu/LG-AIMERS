{
 "cells": [
  {
   "cell_type": "markdown",
   "id": "d918465c",
   "metadata": {},
   "source": [
    "## 1. Import Library and define function "
   ]
  },
  {
   "cell_type": "code",
   "execution_count": 24,
   "id": "ae3dbbd2",
   "metadata": {},
   "outputs": [],
   "source": [
    "import pandas as pd\n",
    "import numpy as np\n",
    "import seaborn as sns\n",
    "import matplotlib.pyplot as plt\n",
    "from sklearn.utils import shuffle\n",
    "from tqdm import tqdm\n",
    "import warnings\n",
    "warnings.filterwarnings(action='ignore')\n",
    "\n",
    "from sklearn.model_selection import train_test_split\n",
    "from imblearn.under_sampling import RandomUnderSampler\n",
    "from sklearn.tree import DecisionTreeClassifier\n",
    "from sklearn.ensemble import RandomForestClassifier\n",
    "from sklearn.model_selection import GridSearchCV\n",
    "\n",
    "from xgboost import XGBClassifier\n",
    "from lightgbm import LGBMClassifier\n",
    "from catboost import CatBoostClassifier\n",
    "from sklearn.ensemble import GradientBoostingClassifier\n",
    "from sklearn.ensemble import VotingClassifier\n",
    "\n",
    "\n",
    "from sklearn.metrics import (\n",
    "    accuracy_score,\n",
    "    confusion_matrix,\n",
    "    f1_score,\n",
    "    precision_score,\n",
    "    recall_score\n",
    ")"
   ]
  },
  {
   "cell_type": "code",
   "execution_count": 2,
   "id": "e0762d4b",
   "metadata": {},
   "outputs": [],
   "source": [
    "def get_clf_eval(y_test, y_pred=None):\n",
    "    confusion = pd.DataFrame(confusion_matrix(y_test, y_pred), index = ['T[0]', 'F[1]'], columns = ['pred_T[0]', 'pred_F[1]'])\n",
    "    accuracy = accuracy_score(y_test, y_pred)\n",
    "    precision = precision_score(y_test, y_pred, labels=[True, False])\n",
    "    recall = recall_score(y_test, y_pred)\n",
    "    F1 = f1_score(y_test, y_pred, labels=[True, False])\n",
    "\n",
    "    print(\"오차행렬:\\n\", confusion)\n",
    "    print(\"\\n정확도: {:.4f}\".format(accuracy))\n",
    "    print(\"정밀도: {:.4f}\".format(precision))\n",
    "    print(\"재현율: {:.4f}\".format(recall))\n",
    "    print(\"F1: {:.4f}\".format(F1))"
   ]
  },
  {
   "cell_type": "code",
   "execution_count": 3,
   "id": "86a1b869",
   "metadata": {},
   "outputs": [],
   "source": [
    "def label_encoding(series: pd.Series) -> pd.Series:\n",
    "    \"\"\"범주형 데이터를 시리즈 형태로 받아 숫자형 데이터로 변환합니다.\"\"\"\n",
    "\n",
    "    my_dict = {}\n",
    "\n",
    "    # 모든 요소를 문자열로 변환\n",
    "    series = series.astype(str)\n",
    "\n",
    "    for idx, value in enumerate(sorted(series.unique())):\n",
    "        my_dict[value] = idx + 1\n",
    "    series = series.map(my_dict)\n",
    "\n",
    "    return series"
   ]
  },
  {
   "cell_type": "markdown",
   "id": "175f2057",
   "metadata": {},
   "source": [
    "### 1.1 load data"
   ]
  },
  {
   "cell_type": "code",
   "execution_count": 5,
   "id": "70466a3c",
   "metadata": {},
   "outputs": [
    {
     "data": {
      "text/plain": [
       "((64570, 30), (59299, 29), (5271, 30))"
      ]
     },
     "execution_count": 5,
     "metadata": {},
     "output_type": "execute_result"
    }
   ],
   "source": [
    "df_train = pd.read_csv(\"train.csv\")\n",
    "df_test = pd.read_csv(\"submission.csv\")\n",
    "df_all = pd.concat([df_train, df_test], axis = 0)\n",
    "df_all.shape, df_train.shape, df_test.shape"
   ]
  },
  {
   "cell_type": "markdown",
   "id": "db4d8fa5",
   "metadata": {},
   "source": [
    "## 2. Data preprocessing"
   ]
  },
  {
   "cell_type": "markdown",
   "id": "7b298125",
   "metadata": {},
   "source": [
    "### 2.1 drop columns"
   ]
  },
  {
   "cell_type": "code",
   "execution_count": 6,
   "id": "3d3dec85",
   "metadata": {},
   "outputs": [],
   "source": [
    "# 열 삭제\n",
    "drop_col = ['customer_country.1', 'id_strategic_ver', 'it_strategic_ver', 'idit_strategic_ver',\n",
    "            'product_subcategory', 'product_modelname', 'business_area', 'business_subarea', 'ver_cus', 'ver_pro']\n",
    "\n",
    "df_all.drop(columns = drop_col, inplace = True)"
   ]
  },
  {
   "cell_type": "markdown",
   "id": "07131d77",
   "metadata": {},
   "source": [
    "### 2.2 결측치 처리(수치형 데이터)"
   ]
  },
  {
   "cell_type": "code",
   "execution_count": 7,
   "id": "60e186fc",
   "metadata": {},
   "outputs": [],
   "source": [
    "# 결측값 0으로 넣을 컬럼\n",
    "fillna_col = ['com_reg_ver_win_rate', 'historical_existing_cnt',\n",
    "             'ver_win_rate_x', 'ver_win_ratio_per_bu']\n",
    "\n",
    "for col in fillna_col:\n",
    "    df_all[col] = df_all[col].fillna(0)"
   ]
  },
  {
   "cell_type": "markdown",
   "id": "67d3d7af",
   "metadata": {},
   "source": [
    "### 2.3 범주형 변수 전처리"
   ]
  },
  {
   "cell_type": "markdown",
   "id": "e1087150",
   "metadata": {},
   "source": [
    "customer_country : '/' 기준으로 나라만 추출 <br/>\n",
    "customer_type : 비슷한 의미의 다른 용어를 같은 범주로 통일 <br/>\n",
    "inquiry_type : 비슷한 의미의 다른 용어를 같은 범주로 통일 <br/>\n",
    "customer_position : 비슷한 의미의 다른 용어를 같은 범주로 통일 <br/>\n",
    "expected_timeline : 기간에 따라 5개의 범주로 나누고 기타와 None 범주 추가 <br/> <br/>\n",
    "개수가 1개인 범주는 '기타' 범주로 통일 <br/>\n",
    "결측치는 'None' 범주로 통일\n"
   ]
  },
  {
   "cell_type": "code",
   "execution_count": 8,
   "id": "f59eac6b",
   "metadata": {},
   "outputs": [],
   "source": [
    "df_all['customer_country'] = df_all['customer_country'].apply(lambda x: x.rsplit('/', 1)[-1].strip() if isinstance(x, str) else x)"
   ]
  },
  {
   "cell_type": "code",
   "execution_count": 9,
   "id": "a8f03f9d",
   "metadata": {},
   "outputs": [],
   "source": [
    "df_all['customer_type'] = df_all['customer_type'].str.lower()\n",
    "df_all['customer_type'] = df_all['customer_type'].replace(['etc.', 'other', 'others'], 'etc')\n",
    "df_all['customer_type'] = df_all['customer_type'].replace(['end-customer', 'end customer', 'end-user'], 'end_user')\n",
    "df_all['customer_type'] = df_all['customer_type'].replace(['specifier/ influencer', 'specifier / influencer'], 'influencer')\n",
    "df_all['customer_type'] = df_all['customer_type'].replace(['homeowner', 'home owner'], 'home_owner')\n",
    "df_all['customer_type'] = df_all['customer_type'].replace(['software/solution provider', 'software / solution provider'], 'solution_provider')\n",
    "df_all['customer_type'] = df_all['customer_type'].replace(['engineer', 'hvac engineer'], 'engineer')\n",
    "df_all['customer_type'] = df_all['customer_type'].replace(['distributor', 'dealer/distributor'], 'distributor')\n",
    "df_all['customer_type'].fillna('none', inplace = True)"
   ]
  },
  {
   "cell_type": "code",
   "execution_count": 10,
   "id": "d3bb507b",
   "metadata": {},
   "outputs": [],
   "source": [
    "df_all['inquiry_type'] = df_all['inquiry_type'].str.lower()\n",
    "df_all['inquiry_type'] = df_all['inquiry_type'].replace(['etc.', 'other', 'other_', 'others'], 'etc')\n",
    "df_all['inquiry_type'] = df_all['inquiry_type'].replace(['sales inquiry', 'sales', 'probeam precio'], 'sales inquiry')\n",
    "df_all['inquiry_type'] = df_all['inquiry_type'].replace(['quotation or purchase consultation', 'request for quotation or purchase', 'quotation_or_purchase_consultation', 'purchase or quotation', 'quotation_', 'purchase'], 'quotation_or_purchase_consultation')\n",
    "df_all['inquiry_type'] = df_all['inquiry_type'].replace(['usage or technical consultation', 'technical consultation', 'request for technical consulting', 'usage_or_technical_consultation', 'technical_consultation', 'technical'], 'usage or technical consultation')\n",
    "df_all['inquiry_type'] = df_all['inquiry_type'].replace(['vui lòng báo giá giúp mình sản phẩm đo thân nhiệt xin cảm ơn', 'tôi cần tham khảo giá và giải pháp từ lg'], 'quotation_or_purchase_consultation')\n",
    "df_all['inquiry_type'] = df_all['inquiry_type'].replace(['toi muon tim hieu thong tin ky thuat, gia ca cua sp de su dung'], 'product information')\n",
    "df_all['inquiry_type'].fillna('none', inplace = True)"
   ]
  },
  {
   "cell_type": "code",
   "execution_count": 11,
   "id": "efe15f7b",
   "metadata": {},
   "outputs": [],
   "source": [
    "# custoper_position 전처리\n",
    "df_all['customer_position'] = df_all['customer_position'].replace(['ceo/founder', 'partner', 'vice president', 'c-level executive', 'director', 'vicepresident', 'c-levelexecutive', 'vp','leadership/executive office/owner', 'president'\n",
    "                                                                   'principal & director', 'business partner', 'chairman', 'co-founder', 'chief executive officer', 'subsidiary sales (ise)', 'ceo/fundador', 'gerente', 'the big boss',\n",
    "                                                                  'principal & director', 'president'], 'ceo')\n",
    "df_all['customer_position'] = df_all['customer_position'].replace(['consultant', 'commercial consultant', 'architecture/consult', 'architect/consultant'], 'consult')\n",
    "df_all['customer_position'] = df_all['customer_position'].replace(['customer', 'customer_position'], 'customer')\n",
    "df_all['customer_position'] = df_all['customer_position'].replace(['decision-influencer', 'decision maker', 'decision influencer'], 'decision')\n",
    "df_all['customer_position'] = df_all['customer_position'].replace(['distributor', 'cargo'], 'distributor')\n",
    "df_all['customer_position'] = df_all['customer_position'].replace(['physics teacher','assistant professor','maths lecturer','science teacher','guest faculty','physics faculty','teacher/middle school coordinator','prof.',\n",
    "                                                                   'academic specialist','principal at oxford integrated pu science college','math and physics teacher','professor of mathematics','physics and mathematics teacher',\n",
    "                                                                   'assistant professor of english','educator','professor','quantitative aptitude faculty','english trainer for ielts,toefl,pte,gre,sat exams.','associate professor',\n",
    "                                                                   'pgt physics','education professional','chemistry teacher','director cum faculty at gaining apex coaching centre','teacher','senior lecturer',\n",
    "                                                                   'neet/ olympiad expert faculty','associate professor in electronics engg','education','pgt chemistry', \n",
    "                                                                   'academic coordinator/ post graduate teacher (accountancy, business studies)/ tgt (ict)','assistant professor of enlish'], 'education')\n",
    "df_all['customer_position'] = df_all['customer_position'].replace(['entry level','intern','trainee','entrylevel','employee'], 'employee')\n",
    "\n",
    "df_all['customer_position'] = df_all['customer_position'].replace(['exhibition','exhibitiontv'], 'exhibition')\n",
    "df_all['customer_position'] = df_all['customer_position'].replace(['hospital', 'medical device manufacturer', 'medical imaging specialist', 'tierarzt', 'surgery professional', 'pathologist'], 'medical')\n",
    "df_all['customer_position'] = df_all['customer_position'].replace(['not applicable','none','other','others'], 'etc')\n",
    "df_all['customer_position'] = df_all['customer_position'].replace(['manager','associate/analyst','consulting','lider de desarrollo','decision-maker','business unit director','business development','operations',\n",
    "                                                                   'product management','market intelligence/research'], 'pm')\n",
    "df_all['customer_position'] = df_all['customer_position'].replace(['asst prof.','professional trainer','radiology professional'], 'professional')\n",
    "df_all['customer_position'] = df_all['customer_position'].replace(['this is a consume display requirement for home purpose.','unpaid','homeowner','no influence'], 'unemployed')"
   ]
  },
  {
   "cell_type": "code",
   "execution_count": 12,
   "id": "e9b8ce43",
   "metadata": {},
   "outputs": [],
   "source": [
    "# value_counts 가 1개인 것들 etc로 분류\n",
    "value_counts = df_all['customer_type'].value_counts()\n",
    "values_to_replace = value_counts[value_counts == 1].index\n",
    "df_all['customer_type'] = df_all['customer_type'].apply(lambda x: 'etc' if x in values_to_replace else x)\n",
    "\n",
    "value_counts = df_all['inquiry_type'].value_counts()\n",
    "values_to_replace = value_counts[value_counts == 1].index\n",
    "df_all['inquiry_type'] = df_all['inquiry_type'].apply(lambda x: 'etc' if x in values_to_replace else x)\n",
    "\n",
    "value_counts = df_all['customer_position'].value_counts()\n",
    "values_to_replace = value_counts[value_counts == 1].index\n",
    "df_all['customer_position'] = df_all['customer_position'].apply(lambda x: 'etc' if x in values_to_replace else x)\n",
    "df_all['customer_position'].fillna('none', inplace = True)\n",
    "\n",
    "value_counts = df_all['customer_job'].value_counts()\n",
    "values_to_replace = value_counts[value_counts == 1].index\n",
    "df_all['customer_job'] = df_all['customer_job'].apply(lambda x: 'other' if x in values_to_replace else x)\n",
    "df_all['customer_job'].fillna('none', inplace = True)\n",
    "\n",
    "value_counts = df_all['product_category'].value_counts()\n",
    "values_to_replace = value_counts[value_counts == 1].index\n",
    "df_all['product_category'] = df_all['product_category'].apply(lambda x: 'etc' if x in values_to_replace else x)\n",
    "df_all['product_category'].fillna('none', inplace = True)\n",
    "\n",
    "value_counts = df_all['customer_country'].value_counts()\n",
    "values_to_replace = value_counts[value_counts == 1].index\n",
    "df_all['customer_country'] = df_all['customer_country'].apply(lambda x: 'etc' if x in values_to_replace else x)\n",
    "df_all['customer_country'].fillna('none', inplace = True)"
   ]
  },
  {
   "cell_type": "code",
   "execution_count": 13,
   "id": "7e421cd0",
   "metadata": {},
   "outputs": [],
   "source": [
    "expected_timeline = df_all['expected_timeline']\n",
    "expected_timeline = expected_timeline.str.replace('-', '')\n",
    "expected_timeline = expected_timeline.str.replace('_', '')\n",
    "expected_timeline = expected_timeline.str.replace('~', '')\n",
    "expected_timeline = expected_timeline.str.replace(' ', '')\n",
    "expected_timeline = expected_timeline.str.replace('.', '')\n",
    "expected_timeline = expected_timeline.str.replace('etc', 'others')"
   ]
  },
  {
   "cell_type": "code",
   "execution_count": 14,
   "id": "55942400",
   "metadata": {},
   "outputs": [],
   "source": [
    "sort_df = expected_timeline.fillna('none')"
   ]
  },
  {
   "cell_type": "code",
   "execution_count": 15,
   "id": "1bc83903",
   "metadata": {},
   "outputs": [
    {
     "data": {
      "text/plain": [
       "42"
      ]
     },
     "execution_count": 15,
     "metadata": {},
     "output_type": "execute_result"
    }
   ],
   "source": [
    "values = ['aggressivepricerequired',\n",
    "       'alreadycloseinjulypurchsewithrd', 'alreadyconnectwithpartner',\n",
    "       'alreadyindiscussionwithpartnerfrombangalore(kohinoor)andwithmr.indraneelfromcorporateoffice',\n",
    "       'alreadyintouchwithcustomer',\n",
    "       'alreadyintouchwithcustomerfromlast10days.droppingitbecausewearealreadyintouch',\n",
    "       'alreadyintouchwithhimsincelong.hehasnotfinalizedyet.leadforwardedtord',\n",
    "       'alreadyintouchwithpartner.', 'alreadyintouchwiththereteam',\n",
    "       'alreadyourcustomer,havesharedpricesfornewrequirement',\n",
    "       'alreadypurchasewithrd', 'alreadysharedquotationthroughsi.',\n",
    "       'alreadytouchwithcustomerforkioskrequirement',\n",
    "       'alreadytouchwithcustomers',\n",
    "       'alreadyworkingonidbwillcreateopppostclarfyingonsignage',\n",
    "       'alreadyworkingwithenduseronthisrequirement.',\n",
    "       'askedtocallbacklater,ihadsharedthisleadwithrdtotakeitfurther.',\n",
    "       'askedtocallbacktomorrow,ihadsharedthisenquirywithrd.',\n",
    "       'askedtocallbacktomorrowmorning,notresponding',\n",
    "       'askedtocalllater.','(selectidtimeline)', '09022022requestedforboqofrequirement',\n",
    "       '14:0015:00',\n",
    "       '14thaugaggressivepricerequiredashehasgotpricefromoutsidedelhi',\n",
    "       '14thfeb2022shareddetails.awaitingupdatefromcustomer.',\n",
    "       '25nov2021nomobilenumber,sentamailtocustomer',\n",
    "       '29thsep2021:nosuchrequirementasofnow', '14thfeb2022shareddetailsawaitingupdatefromcustomer','alreadyintouchwithcustomerfromlast10daysdroppingitbecausewearealreadyintouch',\n",
    "       'alreadyintouchwithhimsincelonghehasnotfinalizedyetleadforwardedtord',\n",
    "       'alreadyintouchwithpartner', 'alreadysharedquotationthroughsi',\n",
    "       'alreadyworkingwithenduseronthisrequirement',\n",
    "       'askedtocallbacklater,ihadsharedthisleadwithrdtotakeitfurther','alreadyindiscussionwithpartnerfrombangalore(kohinoor)andwithmrindraneelfromcorporateoffice',\n",
    "       'askedtocalllater', 'askedtocallon4thmay',\n",
    "       'askedtocontacthimafter8thjan', 'askedtosenddetails',\n",
    "       'askedtosharedetailsonmailhewillupdateifthereisanyrequirement',\n",
    "       'assignedtopartnerintialmeetingdonewillconverttoopppostcompleteinfo',\n",
    "       'atpresentnotrequired,', 'beingfollowedup',\n",
    "       'bodeli,requirementpendingnewquotesendcloseinthismonthend',\n",
    "       'budgetissue', 'budgetlowhenceclienthavenotwentahead',\n",
    "       'budgetproblem', 'busy,calllater', 'busyneedtocallback',\n",
    "       'callafter3june', 'callanddiscusednorequirement',\n",
    "       'callanddiscusedtocustomecustomerwantsdemo',\n",
    "       'callbackagainon30/04', 'callbacklater',\n",
    "       'callbacklater,infirstweekmarch', 'calledtoknowthepriceofidb',\n",
    "       'callnotconnecting', 'callnotpicking',\n",
    "       'clienthaveseenthedemoheneededforbiggerroomandthecameraqualityandspeakertrackingwerethemainrequiredfeatureasofnow,hisbudgetisaround2lacsandneedbiggersizesolutionthereisnoresponsefromclientpostdemohenceclosing',\n",
    "       'clientiscrosscheckingonpricesitsarccaseofsubwayandthefranchiseeistryingtogetpricingfromelsewhere',\n",
    "       'clientisexploringhewilldiscussoncedetailssentdetailsmailedtohimasperrecentdiscussion,heisnotexploringasofnow',\n",
    "       'clientislookingfor86\"displaywithvcsolution,theywillgofordemonextweekanddecideonprocuringourtr3dj,detailssharedwithclientonmail',\n",
    "       'clientisnothavinganyrequirement,hewasonlybrowsingthroughtheproduthenceclosiginsystemalthoughthedetailsofidbaremailedtoclient',\n",
    "       'clientisnotlookingnowandhewasinterestedwithonlyinbuiltopsoptionhenceclosinginsystemasheisnotrespondingtocalls',\n",
    "       'clientisnotrespondingcalls,followingupandkeeptheupdatetracked',\n",
    "       'clientnotanweringcallsandaskedthereisnorequirementhewastryingtocheckpricesforone65touchrequirementofexistingclient',\n",
    "       'clientnotinterestedinproductreceingcallandnotansweringproperly',\n",
    "       'clientshallgetbackforexploringdemoofidb,postthattheywilldecideonprocuringthesame',\n",
    "       'clientwasbusy,askedtocallbacklater,interestedinexploringouridb',\n",
    "       'clientwasdrivingandaskedtocallbacklater,willfolloupandkeepposted',\n",
    "       'clientwasexploringonproductsbuthedonthaveanyplanstopurchasecurrentlyhehaveholdedonhisrequirementandwillconnectifitreiniitaties',\n",
    "       'clientwasinquiringforpricesalreadyquotedbyfewpartnerstheyevenpurchasedasperrecentupdatebutclienthasnotconfiermedpartnername',\n",
    "       'clientwaskeentoexploreouridbsku,infollowup', 'cmsreqired',\n",
    "       'communicationnumbernotavailable',\n",
    "       'concernedpersonnotavailable,willcalllater',\n",
    "       'conference/meetingroom/collaborationspaces',\n",
    "       'connectedwithpartnerforstudiosetupwithcamera',\n",
    "       'connectingforissue', 'connectwithpartner',\n",
    "       'contactdetailsprovidedarewrong,sentmailforcorrectcontactdetails',\n",
    "       'convertedthisleadintoopportunity', \"couldn'tconect\",\n",
    "       \"couldn'tconnect\", 'couldntconnect',\n",
    "       'customehasnotreceivecallason31stmayspokewithcustomer,hewillcomefordemoinnextweek14062022',\n",
    "       'customepurchaseconsumerproduct', 'customerasktocallbacktomorrow',\n",
    "       'customerbudgetis125+taxfor75inchidbihavegivenournoregretofferandalsoexplainedwhylgisbetterandpremiumhesaidhewillcomebackinadayortwo',\n",
    "       'customergettingpricefromjaipurwhichlowthanouroperatingprice',\n",
    "       'customerhasbeennotansweringcall', 'customerhasnotansweringcall',\n",
    "       'customerhasnotansweringcall/customerwant86\"interactivedisplay,hewillpurchasewithinnext6month,weareforwardingtolocalrdtotakethisfurther',\n",
    "       'customerhasnotansweringcall/quotationhasbeensendtocustomer',\n",
    "       'customerisbusyaskustocallagain,following',\n",
    "       'customerislookingforresidential43inchdisplayforhomeuse',\n",
    "       'customerneedshortthrowprojector',\n",
    "       'customernotansweringcall,willcallhimagainandupdate',\n",
    "       'customerphoneisgetsswitchedoff',\n",
    "       'customerpurchasebenqforpricedifferance',\n",
    "       'customervisitatuvbusinessandseethedemowithin2to3days',\n",
    "       'customerwantdemoofidbhewillcomefordemoinnextweekafterfollowingupwithcustomermultipletimesthereisnoupdateleadhasbeenforwardedtord',\n",
    "       'customerwantproductt15000',\n",
    "       'customerwillbecomingfordemoon28thmaycustomerdidnotcamefordemoihaveshareddetailswithrdtotakeitfurtherhencedroppingthislead',\n",
    "       'customerwillcomefordemoinnextweek,thanhewilldecidefurther',\n",
    "       'december2022', 'delhienquirey', 'demoalignedforclient',\n",
    "       'democompleted,customeraskedtocomefeb10thforclosure', 'demodone',\n",
    "       'demodoneanddetailsshared',\n",
    "       'demoplanned,willupdatefurtherstatusonceitscompleted',\n",
    "       'demoscheduledfor24thoct', 'demoscheduledforfirstweekfeb',\n",
    "       'demotobealigned', 'demotobeplanned',\n",
    "       'detailsharedwithhimonemailheislookingforoneunitof65inchforhisconferenceroom',\n",
    "       'detailssend', 'detailssendquoterequire', 'detailssendrequiredemo',\n",
    "       'detailsshared', 'detailsshared,beingfollowedup',\n",
    "       'detailsshared,toplandemoindecember',\n",
    "       'detailssharedfollowupunderprogress',\n",
    "       'detailssharedfor75tr,followupinfirstweekofoct',\n",
    "       'detailssharedfuunderprogress',\n",
    "       \"detailssharedonwhatsapp,he'llrevertback\",\n",
    "       'detailssharedwithconcernpersonwillaskbdotofollowup',\n",
    "       'detailssharedwithcustomer,alsoihadsharedleadwithrdtotakeitfurther',\n",
    "       'detailssharedwithcustomer,hewillupdateonfurtheractionafterevaluatingotherbrandsaswell',\n",
    "       'detailssharedwithcustomerason4thmaytriedmultipletimesbutnotreachable',\n",
    "       'detailssharedwithcustomeronmai',\n",
    "       'detailssharedwithcustomeronmail',\n",
    "       'detailssharedwithpartnerhehasquotedinourexistingcustomeronly',\n",
    "       'detailssharedwithrdforfurtheraction,',\n",
    "       'dicsussedwithclient,detailssharedonmail,clienthavenobudgetstobuynowhenceclosinginthesystem',\n",
    "       \"didn'tpickupthecall\", \"didn'trespond\", \"didn'trespondtocalls\",\n",
    "       \"dind'trespond\", 'discusedwithankitindehli',\n",
    "       'discussedandshareddetailswithclientfordigitalsignagetheyarenotplanningtopurchsethesamecurrentlyhenceclosinginthesystem',\n",
    "       'discussedwithclient,detailsmailedforidbandonequick,theyhavenoplantobuyfornowhenceclosinginthesystem',\n",
    "       'discussedwithclient,detailsmailedtheyarenotplanningtopurchasefornowhenceclosinginthesystem',\n",
    "       'discussedwithclient,detailssharedonmailclienthavenopurchaseplansfornowhenceclosingthesameinsystem',\n",
    "       'discussedwithclient,heshallsendthedetailsoftheirofficerequirement',\n",
    "       'discussedwithclient,quotesent',\n",
    "       'discussedwithclient,theywerejustevaluatingtheproduct,theyhavenoplanstobuythesame,henceclosinginthesystem',\n",
    "       'discussedwithclientdemoalignedoncedone,willupdate',\n",
    "       'discussedwithclientdetailsmailedclientdonthavebudgetforpurchasenowhenceclosinginthesystem',\n",
    "       'discussedwithclientdetailsmailedforonequick,theyarenotplanningtobuythesamefornowhenceclosinginthesystem',\n",
    "       'discussedwithclientdetailsmailedtheyhavebudgeissuefornowsotheywontbuyhenceclosinginyhesystem',\n",
    "       'discussedwithclientdetailsmailedtoclientnobudgetsfornowwontbuyhenceclosinginthesystem',\n",
    "       'discussedwithclienttheyarelookingforaiosolutionwithvctheywillcallafter20thforthedemoandthenpurchasethroughgem',\n",
    "       'discussedwithclienttheyarenotevaluatuatingidbasofnow,theyhavenoplanstobuyhenceclosinginthesystem',\n",
    "       'discussedwithclienttheyhavenobudgetsforpurchasefornow,theywontbuyhenceclosinginthesystem',\n",
    "       'discussedwithclienttheyneed24inchdisplayfordigitalsignagementionedforouravailablesizes,heshallrevert',\n",
    "       'discussedwithclienttheyneedforcsractivitypricesexpectationisverymuchlow',\n",
    "       'discussedwithclientweneedtoaligndemotheexpectationisconnectingappledevicesbutnotmandatoryoncedemoisdone,weshallupdate',\n",
    "       'discussedwithclientwillplanfordemo',\n",
    "       'discussedwithpartnerheworkswithcloudwalkerandwantedtoconnectwithusforsomeproductdetailsasofnow,donthaveanyinquirytoworkandhenceclosinginsystem',\n",
    "       'discussedwiththeclient,tr3bg&onequickworksdemoscheduledon27thjuly2022postdemotheywilldecideonprocuringtheunit',\n",
    "       'discussedwiththeclientaskedtocallbackonmondaywillkeepafollowup',\n",
    "       'discussedwiththeclienthedonthavebudgetsdetailsmailedhewontbuynowhenceclosinginthesystem',\n",
    "       'discussedwiththeclientpricessharedforonequickandidbonmailcustomertoconfirmaboutdemooftheskuandfinaliseonprocurement',\n",
    "       'discussedwiththeclienttheyareintererstedinourtr3djseriesdemoplannedfor29thjuneposttheywillplanonprocurementwillkeepupdate',\n",
    "       'discussedwiththeclienttheypurchased65um3dffromthechannelunabletotrackthesupplierhenceclosinginthesystemmailsenttoclientforourdisplayrange',\n",
    "       'discussiontobedonewithcustomer',\n",
    "       'donthaveanyimmediaterequirementhemaypurchaseafterjune',\n",
    "       'donthavebudgethewantdotled', 'don’thavebudget',\n",
    "       'drop,alreadydonewithpartner',\n",
    "       'drop,budgetproblemnowphonenotrespondig',\n",
    "       'drop,lookongforconsumerproduct', 'drop,notintrested',\n",
    "       'drop,nownotintrested',\n",
    "       'drop,requirementofinteractivetouchscreentosupplyingovt,conncgtwithpartner',\n",
    "       'drop,stillnoplanforpurchase', 'drop,wrongnumber',\n",
    "       'dropnoplanforpurchase',\n",
    "       'dropnotwillingtobuynowwilldoinfuturedetailssharedonwhatsap',\n",
    "       'dropped,requiresdevicelikeonequicksharetobeusedwithsamsungtv',\n",
    "       'droppedcontactnonotvalid', 'droppedhavepurchasedcloudwalker',\n",
    "       'duetobudgetissue,customerhasboughtmaxhubpanel',\n",
    "       'duetofinancialreasons,clienthavedroppedpurchaseplanalthoughthedetailsofidbaremailedtoclient',\n",
    "       'duplicatelead',\n",
    "       'duplicateleadil220100042906discussedwithclienttheirvchallisunderdevelopmentonequickdetailsmailedtoclienttheywillcallusfordemoandpurchasefinalizationoncetheirvcplaceisready',\n",
    "         'emailsendfordetailsclientisexploringonsolutionsbutonlyfortheirundertanding',\n",
    "       'existingcaseworkedbyourdisti,crewbusiness,henceclosingasclientisonlycheckingforcommercials',\n",
    "       'existingpartner,discussedandaddressedtheconcernthepartnerhadtakenpricingandwantedtorecheckasthemodelquotedischanged',\n",
    "       'exitingcustomer',\n",
    "       'financeandaccountingconsultantinquiredfoe43inchaiobutdonthaveplanstobuydetailsdiscussed',\n",
    "       'followingup', 'forwardedtoaurangabadrdforfurtherprocess',\n",
    "       'forwardedtobdo,beingfollowedup', 'forwardedtobdotofollowup',\n",
    "       'fuunderprogress','heaskedtosharebudgetoryquote,hewillcheckandconfirmifhewillrequiretheproduct',\n",
    "       'heclientisnothavinganyrequirementhenceclosiginsystemalthoughthedetailsofidbaremailedtoclient',\n",
    "       'hehasaskedtoconnectnextweekhewanttoseethephysicaldemo',\n",
    "       'heisaneventorganizationandlookingforrentaldisplayshencedroppinginsystem',\n",
    "       'heiscomparingwithsenseswhichislocalbrand',\n",
    "       'heisindiscussioninternallyandwillupdate',\n",
    "       'heislookingforaninteractivedisplaydiscussedwithclient,willupdateasthecaseprogress',\n",
    "       'heislookingforconsumerproductforhome','heislookingforinteractivedisplayquotesharedwithhim',\n",
    "       'heislookingforvideowall&idbforhisofficeourbdojayantisintouchwithhimandsharingtherequireddetailstocustomer',\n",
    "       'heisrequestingdemoinaligarhup,plzsharetoupperson',\n",
    "       'hejustneedbudgetorypricingwehavesharedthedetailswithhimandrequestedhimtocomefordemo',\n",
    "       'heneedsforhomepurposeandisaconsumerclientspokeandguidedonthedetailsandchannelnotab2brequirement',\n",
    "       'hewant32inchtvforsignagedetailssharedwithhim',\n",
    "       'hewant65inchat50k', 'hewant98inchinbelow2lacs',\n",
    "       'hewantdemoinaurangabad,detailssharedwithrd',\n",
    "       'hewantdemoinlaturandalsodonthavemuchbudgetpartnerfollowedupmultipletimesbutnoresponse',\n",
    "       'hewantdemoinsangli,ihaveloopedwithlocalpartner',\n",
    "       'hewantphysicaldemooftr3bfinnashikbuttherebudgetisalsoverylowsofirsthewilldiscusswithmanagementonbudgetthenconfirmbackfordemo',\n",
    "       'hewillcallbackifneeded', 'hisbudgetisunder50konly',\n",
    "       'hisbudgetisverylow',\n",
    "       'hisbudgetisverylowbutwearetryingtoconvincehimfor65inch',\n",
    "       'idbdetaissend',\n",
    "       'il220100042906repeatinquiryhenceclosingthisinsystem',\n",
    "       'invalidlead',\n",
    "       'isaninteriordesignerworkingonturnkeyprojectsmrbhuvneshisincontactandsharedspecsandprices',\n",
    "       'itsbiharcustomer',\n",
    "       'kinnarieletronisvatwahasbidforthesameandtheyaregoingtopurchasefromthem',\n",
    "       'knownpartnerandalreadyworkingonacaseonlycrosscheckingpriceshencedropping',\n",
    "       'knownpartnerandwehaveinstalled3videowallspanindiaforcctvwesupplied49vl5batrs62000andthenagain49vl5fatrs71000nowtheavailablemodelis49vl5gat80000+whichpartnerisrecheckingandhencemadeinquiryclosingtheinquirysi',\n",
    "       'leadbelongstomaharashtra','lookingforactiveledinarangeof5lakhsnotaprospetivebuyer',\n",
    "       'lookingforairconditioners',\n",
    "       'lookingforcommercialtv55\"detailsmailedtoclient,theyhavenoplansfornowtobuyhenceclosinginthesystem',\n",
    "       'lookingforhomeuse',\n",
    "       'lookingfornotmadeinchinaactiveoutdoorledforgovernmentproject',\n",
    "       'lookingforoutdoordisplaycusotmerhasnoclarityonthesolutionemailsharedforunderstandingandwaitingforreply',\n",
    "       'lowbudget', 'maileddetails&priceof55inches',\n",
    "       'mayurelectronicconnectwithclient', 'meetingdatetobefinalised',\n",
    "       'meetingplannedforfurtherdiscussion','mobileisswitchedofftried3times','mrrajnikantisallignwiththeclient',\n",
    "       'needforhomesegmenttheypurchasedvu85inchtvfortheirhome',\n",
    "       'needtoarrangequoteanddemo', 'needtododomestictradebiz',\n",
    "       'nextweekhewillcomefordemoatlgoffice',\n",
    "       'nocontactnumber,ihavedroppedaemailrequestingforthesame',\n",
    "       'nodropthislead,nobudget!',\n",
    "       'nofurtherrevert&clarityaftersharingdetails', 'noreqirements',\n",
    "       'norequirement', 'norequirementofthistime', 'noresponse',\n",
    "       'noresponseonmailsfromtheclientcouldntfindanycontactdetailsonnetaswellhencedroppinginthesystemalthoughidbandonequickdetailssharedonemail',\n",
    "       'notansweringcall', 'notansweringcall,detailssharedwithrd',\n",
    "       'notansweringcall,leadsharedwithrd',\n",
    "       'notansweringcall,salesremarks:triedtoreachhimmultipletimesbutheisnotrespondingrequesttoshailjatoreconnectwithcustomerwearedroppingthisleadfornow',\n",
    "       'notansweringcall,sharedleadwithrd',\n",
    "       'notansweringcall,willtrytoreachhimagain',\n",
    "       'notansweringcall|ason11thjunecustomerphoneisnotreachableiamdroppingthisleadandforwardingtopartner',\n",
    "       'notansweringtriedseveraltimesdetailssharedwithrd',\n",
    "       'notinterested', 'notinterestedatthemoment',\n",
    "       'notinterestedincommercialtvs', 'notlifted', 'notlifted,calllater',\n",
    "       'notpickingcalls,calledmanytimes', 'notreachable',\n",
    "       'notreachable,detailssharedwithrd',\n",
    "       'notreachable,ihadsharedleadwithpartner',\n",
    "       'notreachable,leadsharedwithpartner', 'notrequire', 'notrequired',\n",
    "       'notrequirednow', 'notresponding',\n",
    "       'notresponding,detailssharedwithlocalrd', 'notrespondingtocalls',\n",
    "       'notrespondingtriedmanytimes', 'november2022', 'november22',\n",
    "       'october2022','ordertaken',\n",
    "       'ourpartner,visnetworksisworkingonthisinquiryandclientiscrosscheckingthepriceshenceclosinginthesystem',\n",
    "       'partnerisalreadyintouchwithourrd,ornothepartnerneedstocrosscheckontheinformationasthesizeischangedfrom49to50nowclosingtheopprtunityasitsexistingwithrd',\n",
    "       'partnerisintostaticsignagesheneedtoconnectfordigitalsignagebuthehimselfismanufactureralthoughamailinitaitedforanyrequirementswithledteamtotakeitaheadasofnow,thereisnoscopehenceclosinginsystem',\n",
    "       \"partnerisworkingonexistingrequirementheisconnectedwithourdisti'sforbilling\",\n",
    "       'partnerwasexploringoneolmodelforsomerequiremeentnodesignatedsalesorclosureexpectedhenceclosinginthesystem',\n",
    "       'phonenumbernotavailable', 'phoneswtichedoff', 'priceshared',\n",
    "       'pricesharedwithcustomerheislookingforsomeidbsneedtotakefollowup',\n",
    "       'pricesharewithcustomerourrdisfollowingupwithhimbutcustomerisnotresponding',\n",
    "       'projectcancle',\n",
    "       'proposalsubmitted,duetocovidmdisnotcomintoofficeforthemeeting',\n",
    "       'providedmodelandpriceasperrequirement',\n",
    "       'purchasedfrombinary@123l', 'purchasedsomelocalpanel,budgetissue',\n",
    "       'purchasedviewsonicpanel','purchasevubrand',\n",
    "       'quotationsent–75tr3dj,workinprogress,hewillbuyafter2monthshehasnotevenseenthequoteyet',\n",
    "       'quotationshared',\n",
    "       'quotationsharedforultrastrothershand49vl5ghewillcheckwithmanagementandupdateus',\n",
    "       'quotationsharedincommunication', 'quotationsharedwithcustomer',\n",
    "       'quotationsharedwithcustomer,hewillconfirmbackafterdiscussingwithmanagement09062022asontoday14062022notansweringcallhenceiamdroppingthisleaddetailsshredwithrdtakeitforfurther',\n",
    "       'quotationsharedwithhimforidbhedonthaveenoughfundasofnowheisjustevaluatingoptions',\n",
    "       'quotehasbeensenttocustomer', 'quotesend',\n",
    "       'quotesendmeetingpending', 'quotesendnextmonthrequire',\n",
    "       'quotesendrequiredemo', 'quotesendrequiredemoinnextweek',\n",
    "       'quotesent,theclientisrequireddemoinjune', 'quotesenttocustomer',\n",
    "       'quotesharedbuttherebudgetisverylow',\n",
    "       'quotesharedfor86inchheisevaluationlocalbrandoftrueview',\n",
    "       'quotesharedwithcustomer,hewillconfirmafter2monthsleadsharedwithpartner',\n",
    "       'quotesharedwithcustomer,leadsharedwithpartnertotakeitfurther',\n",
    "       'quotesharedwithcustomerhewillrevertwithanupdate',\n",
    "       'quotesharedwithhim',\n",
    "       'quotesharedwithhimandhewillupdateusafterdemo',\n",
    "       'rajnikantisworkinginthiscasehoinahmedabadanditsunderprocess',\n",
    "       'receivedpo', 'recentlynorequirement,dropped',\n",
    "       'remarks:customerlookingfor65inchesand75incheseach1qty',\n",
    "       'repeatedinquiryfromclienthewasjustinquiringbuthavenotconfimredonpurchasewehavetriedmulitpletimesbutclientisnotinterestedinbuying',\n",
    "       'repeatenquiry',\n",
    "       'repeatinquiry,wealreadyknewontheclientrequirementweareintouchwiththemandifanyrequirementcomes,wewilludpateasofnow,thetransparentledtheyneedisnotavailablewithusandtheavailableproductcostexpectationisverylowwit',\n",
    "       'require65inchidbunder80k', 'requiredemo', 'requiredemoafter20may',\n",
    "       'requiredemopricesend',\n",
    "       'requirementisforpuneloopedpuneteamalthoughthepartnerischeckingpricesforanexistingcaseclosingtheleadinsystemaspuneteamisalreadyworking',\n",
    "       'requirementof65tr3dj',\n",
    "       'requirementof65tr3djandcustomerwantdemo,detailssharedwithrd',\n",
    "       'requirementof65tr3dj–demoreqired,leadsharedwithrd',\n",
    "       'requirementof65tr3dj–demorequired',\n",
    "       'requirementof75tr3dj–demo,detailssharedwithrd',\n",
    "       'requirementof75tr3dj–demo,leadsharedwithmumbaiteam',\n",
    "       'requirementof75tr3dj–demorequired',\n",
    "       'requirementofidb,budgetisverylowshareddetailsonwhatsapp1unitrequiredrdisfollowingup',\n",
    "       'requirementofvideowallclientischekingonpricesalready2partnersworkingitsongoingcasehenceclisinginsystem',\n",
    "       'requireonlycmssoftware', 'requirequote',\n",
    "       'requiresdetailfortendernopurchaserequirementrightnow',\n",
    "       'resellerwanttohavegemauthorization',\n",
    "       'reuiredforofficeaskedtosharequotation', 'rnr',\n",
    "       'sameasleadnoil220300046498hencedroppingduplicatelead',\n",
    "       'schedulingameeting', 'september', 'september2022',\n",
    "       'sizenotavailable', 'smallsizetabrequired',\n",
    "       'spokentoclient,hewillcheckiftheyneeddemoandconfirm',\n",
    "       'spokentoclient,hewillconnectoncehediscussonrequirement',\n",
    "       'spokentopartner,havenoanyrequierementsfornow,havemailedthedetailstohim,hewontpurchaseanyskusfornowhenceclosinginthesystem',\n",
    "       'spokewithcustomehewant43\"tv',\n",
    "       'spokewithcustomer,detailsneedstoshareonmailalsotheywantdemo',\n",
    "       'spokewithcustomer,heislookingfordotledproductin42inch,ihavesuggestedhimour43inchsignagebuthewantfullyoutdoorledihavesharedthedetailsofour43inchdisplay',\n",
    "       'spokewithcustomer,willbesharingdetailsonemail',\n",
    "       'spokewithherandsharedthedetailsforsignagedisplays','theclientbudgetiswithin1lacstheyneed55inchaiosolutionasperdiscussion,theyarecomparingwithjabraandweproposedtocheckiftheyneedonlydisplaysbutduetobudgothersontraint,theyaredroppingtheidea',\n",
    "       'theclientislookingforsmallsizedisplaysof20inchto25inchtomountonrefthebudgetis4kto6knotexactlyourrequirement',\n",
    "       'theclientisnothavinganyrequirement,hewasonlybrowsingthroughtheproduthenceclosiginsystemalthoughthedetailsofidbaremailedtoclient',\n",
    "       'theclientisnothavinganyrequirement,shewasonlybrowsingthroughtheproduthenceclosiginsystemalthoughthedetailsofidbaremailedtoclient',\n",
    "       'theclientisnothavinganyrequirementhenceclosiginsystemalthoughthedetailsofidbaremailedtoclient',\n",
    "       'theclientisnothavinganyrequirementhewasjustbrowsingforproductshenceclosiginsystemalthoughthedetailsofidbandvideowallsaremailedtoclient',\n",
    "       'thepartnerischeckingpriceforanongoingcaseofbarcwehavediscussedonnewcasewiththepartneritsusefultotakeourdiscussionfurtherfornewinquriesclosingtheopportunityinsystemasofnowasitsmadeonlyforcrosscheckingprices',\n",
    "       'thererquirementisforpuneemailedclientloopingpuneteamtomeetandvisittheclient',\n",
    "       'theyareconsultantandiamalreadyintouchwithcustomer',\n",
    "       'theyarehavingrequirementof40displayscustomerneedaggressivepricingthansamsung',\n",
    "       'treidmanytimesbutphonenotreachable',\n",
    "       'triedcallingtheclient,noresponsefromclient,ihavemailedidbdetails,willkeepfollowup&update',\n",
    "       \"triedcontacthimbutcouldn'tabletoconnectleadforwardedtord\",\n",
    "       'triedcoupleoftimesbutheisnotrespondingwewilltryagain',\n",
    "       'triedreachingouttoclientnoresponsetocalllssoihavesharedthedatasheet,shalllfolllllowupandupdate',\n",
    "       'triedtoreachcustomerbutnoresponseleadforwardedtopartnerforfurtherfollowup',\n",
    "       'triedtoreachhimbutnoresponseiwillcallhimagain18thnovicalledhimagainandhewillsendtherequirementonmail',\n",
    "       \"triedtoreachhimmultipetimesfromlast7daysbutcouldn'tgetthrough\",\n",
    "       \"triedtoreachhimmultipletimes,butcouldn'tgetthru\",\n",
    "       'triedtoreachseveraltimesbutnoresponse', 'underdiscussion','uttarpradeshstatelead',\n",
    "       'veryabruptcustomersaidtheinquirywasmademonthsagoandwasrudeenoughclosinginthesystemastheclientbehaviourhasnoscopetodiscussonrequirementneedmarketingteamtocheckifthecasewasreceivedindecorjanasperclient',\n",
    "       'wanttodotradeproductbusiness', 'wanttotakeretailmonitor',\n",
    "       'wearealreadyintouchwithcustomerthrupartner',\n",
    "       'wearealreadyintouchwiththiscutsomerfromlast2years,hehasneverpurchasedanyproducttilldateicalledhimuptwicebutnoreponse',\n",
    "       'wearenotgoingtomatchtechnicalspecification',\n",
    "       'wehavepitched110inchfuunderprgress',\n",
    "       'wewerealreadyworkinghere,wearefacingchallengeaswedonthave49vl5ginstockorderlostinmarchduetounavailabiltyof49vl5g',\n",
    "       'willcomebackonceitisrequired', 'willcomeforthedemo',\n",
    "       'withdrawnthedecissiontopurchase', 'últimarevisión:26/07/21','underdiscussion,requirementnotdinalisedyet',\n",
    "       'update14thseptmoredetailstobesharedbyclient',\n",
    "       'updateaspercustomernoenquirywasmade',\n",
    "       'updatedetailsalreadysharedwithcustomerevaluationisongoing','uptodecember']\n",
    "\n",
    "sort_df = sort_df.apply(lambda x: 'others' if x in values else x)\n",
    "sort_df = sort_df.replace('callbacktomorrow28/09', 'lessthan3months')\n",
    "sort_df = sort_df.replace('then', 'than')\n",
    "len(sort_df.unique())"
   ]
  },
  {
   "cell_type": "code",
   "execution_count": 16,
   "id": "63c014e0",
   "metadata": {},
   "outputs": [],
   "source": [
    "values = ['lessthan3months,meetingwiththecustomerforthemoredetailsandtentativeboqwillne32and43',\n",
    "       'lessthan3monthscustomernotansweredtocallback',\n",
    "       'lessthan3monthsoutdoorledrequiment', '4/8months', '45days', 'askedtocallbacktomorrow',\n",
    "          'askedtocallnextweek','askedtocallbacktomorrow,ihadsharedthisenquirywithrd',\n",
    "         'duplicateleadil220100042906lessthan3months', 'eolmodelnewmodelquoterequirmentafter30days',\n",
    "         'getbackin1wk','heislookingfordisplayforhisrestauranthehasaskedtocontacthimafter1monthasrestaurantworkisunderprogress',\n",
    "        'hewantdemonextmonthatpune15may', 'hewantdemonextweek','needtodiscusswithclientinnexttwomonthstheyneedtochecktheproductandaccridnglyproceedforpersonaluse'\n",
    "          ,'meetingplannednextweek','needtocallonfriday27th', 'onemonth', 'spokewithshubhamwhoisstudenthesaidhewillspeakwithhissirandrevertbackafter2weeks', '3months',\n",
    "         'update14thseptcustomerwilldiscussindetailtomorrow','update13thspetfollowuptobedoneon15thsept', 'update27thaugcustomerhastocomeforproductdemo',\n",
    "       'update4thaugcustomeraskedtocallonmonday',\n",
    "       'update4thaugcustomervisitingexperiencecentreon8thsept',\n",
    "       'update4thaugdetaileddiscussiontobedoneon6thaug',\n",
    "       'update7thaugdemogivencustomerwillconfirmnextweek',\n",
    "       'update8thseptdetailssharedwillconfirmdemoscheduleofnextweek',\n",
    "       'update9thoctdetailssharedwillconfirmforonlinedemonextweek', 'updatecalltobemadeontuesday',]\n",
    "\n",
    "sort_df = sort_df.apply(lambda x: 'lessthan3months' if x in values else x)"
   ]
  },
  {
   "cell_type": "code",
   "execution_count": 17,
   "id": "6c71e09c",
   "metadata": {},
   "outputs": [],
   "source": [
    "sort_df = sort_df.replace('lessthen6months', 'lessthan6months')\n",
    "sort_df = sort_df.replace('lessthan5months', 'lessthan6months')\n",
    "sort_df = sort_df.replace('morethen3months', 'lessthan6months')\n",
    "sort_df = sort_df.replace('needshoteltvafter4months,willcallus', 'lessthan6months')\n",
    "sort_df = sort_df.replace('purchaseplanningafter3months', 'lessthan6months')\n",
    "sort_df = sort_df.replace('lessthan6months', '3months6months')"
   ]
  },
  {
   "cell_type": "code",
   "execution_count": 18,
   "id": "6dd032ee",
   "metadata": {},
   "outputs": [],
   "source": [
    "df_all['expected_timeline'] = sort_df"
   ]
  },
  {
   "cell_type": "code",
   "execution_count": 19,
   "id": "6b8bff96",
   "metadata": {},
   "outputs": [
    {
     "data": {
      "text/plain": [
       "array(['lessthan3months', 'none', '3months6months', '9months1year',\n",
       "       'morethanayear', '6months9months', 'others'], dtype=object)"
      ]
     },
     "execution_count": 19,
     "metadata": {},
     "output_type": "execute_result"
    }
   ],
   "source": [
    "df_all['expected_timeline'].unique()"
   ]
  },
  {
   "cell_type": "markdown",
   "id": "e40b1ddb",
   "metadata": {},
   "source": [
    "레이블 인코딩"
   ]
  },
  {
   "cell_type": "code",
   "execution_count": 20,
   "id": "968e84b9",
   "metadata": {},
   "outputs": [],
   "source": [
    "# 레이블 인코딩할 칼럼들\n",
    "label_columns = [\n",
    "    \"customer_country\",\n",
    "    \"business_unit\",\n",
    "    \"customer_type\",\n",
    "    \"enterprise\",\n",
    "    \"customer_job\",\n",
    "    \"inquiry_type\",\n",
    "    \"product_category\",\n",
    "    \"customer_position\",\n",
    "    \"response_corporate\",\n",
    "    \"expected_timeline\",\n",
    "]\n",
    "\n",
    "for col in label_columns:\n",
    "    df_all[col] = label_encoding(df_all[col])\n",
    "    \n",
    "df_train = df_all.iloc[:len(df_train)]\n",
    "df_test = df_all.iloc[len(df_train):]"
   ]
  },
  {
   "cell_type": "code",
   "execution_count": 21,
   "id": "bb4d2ede",
   "metadata": {},
   "outputs": [],
   "source": [
    "sample = df_train[df_train['customer_idx'] == 25096].sample(100, random_state=42)\n",
    "df_train = pd.concat([df_train[df_train['customer_idx'] != 25096], sample])"
   ]
  },
  {
   "cell_type": "code",
   "execution_count": 22,
   "id": "379b5a9f",
   "metadata": {},
   "outputs": [],
   "source": [
    "df_true = df_train[df_train['is_converted'] == True] # 2529\n",
    "df_false = df_train[df_train['is_converted'] == False] # 54449"
   ]
  },
  {
   "cell_type": "code",
   "execution_count": 23,
   "id": "8b440980",
   "metadata": {},
   "outputs": [],
   "source": [
    "# 데이터를 고르게 추출하기 위한 셔플\n",
    "df_false = shuffle(df_false, random_state = 42)"
   ]
  },
  {
   "cell_type": "code",
   "execution_count": 25,
   "id": "02ce8d05",
   "metadata": {
    "collapsed": true,
    "jupyter": {
     "outputs_hidden": true
    },
    "scrolled": true
   },
   "outputs": [
    {
     "name": "stderr",
     "output_type": "stream",
     "text": [
      "  0%|          | 0/20 [00:00<?, ?it/s]"
     ]
    },
    {
     "name": "stdout",
     "output_type": "stream",
     "text": [
      "Fitting 5 folds for each of 77 candidates, totalling 385 fits\n"
     ]
    },
    {
     "name": "stderr",
     "output_type": "stream",
     "text": [
      "  5%|▌         | 1/20 [04:33<1:26:44, 273.92s/it]"
     ]
    },
    {
     "name": "stdout",
     "output_type": "stream",
     "text": [
      "Fitting 5 folds for each of 77 candidates, totalling 385 fits\n"
     ]
    },
    {
     "name": "stderr",
     "output_type": "stream",
     "text": [
      " 10%|█         | 2/20 [09:08<1:22:14, 274.16s/it]"
     ]
    },
    {
     "name": "stdout",
     "output_type": "stream",
     "text": [
      "Fitting 5 folds for each of 77 candidates, totalling 385 fits\n"
     ]
    },
    {
     "name": "stderr",
     "output_type": "stream",
     "text": [
      " 15%|█▌        | 3/20 [13:44<1:18:00, 275.31s/it]"
     ]
    },
    {
     "name": "stdout",
     "output_type": "stream",
     "text": [
      "Fitting 5 folds for each of 77 candidates, totalling 385 fits\n"
     ]
    },
    {
     "name": "stderr",
     "output_type": "stream",
     "text": [
      " 20%|██        | 4/20 [18:20<1:13:25, 275.37s/it]"
     ]
    },
    {
     "name": "stdout",
     "output_type": "stream",
     "text": [
      "Fitting 5 folds for each of 77 candidates, totalling 385 fits\n"
     ]
    },
    {
     "name": "stderr",
     "output_type": "stream",
     "text": [
      " 25%|██▌       | 5/20 [22:53<1:08:38, 274.54s/it]"
     ]
    },
    {
     "name": "stdout",
     "output_type": "stream",
     "text": [
      "Fitting 5 folds for each of 77 candidates, totalling 385 fits\n"
     ]
    },
    {
     "name": "stderr",
     "output_type": "stream",
     "text": [
      " 30%|███       | 6/20 [27:28<1:04:04, 274.64s/it]"
     ]
    },
    {
     "name": "stdout",
     "output_type": "stream",
     "text": [
      "Fitting 5 folds for each of 77 candidates, totalling 385 fits\n"
     ]
    },
    {
     "name": "stderr",
     "output_type": "stream",
     "text": [
      " 35%|███▌      | 7/20 [32:01<59:23, 274.10s/it]  "
     ]
    },
    {
     "name": "stdout",
     "output_type": "stream",
     "text": [
      "Fitting 5 folds for each of 77 candidates, totalling 385 fits\n"
     ]
    },
    {
     "name": "stderr",
     "output_type": "stream",
     "text": [
      " 40%|████      | 8/20 [36:37<54:58, 274.83s/it]"
     ]
    },
    {
     "name": "stdout",
     "output_type": "stream",
     "text": [
      "Fitting 5 folds for each of 77 candidates, totalling 385 fits\n"
     ]
    },
    {
     "name": "stderr",
     "output_type": "stream",
     "text": [
      " 45%|████▌     | 9/20 [41:07<50:06, 273.33s/it]"
     ]
    },
    {
     "name": "stdout",
     "output_type": "stream",
     "text": [
      "Fitting 5 folds for each of 77 candidates, totalling 385 fits\n"
     ]
    },
    {
     "name": "stderr",
     "output_type": "stream",
     "text": [
      " 45%|████▌     | 9/20 [42:52<52:24, 285.86s/it]\n"
     ]
    },
    {
     "ename": "KeyboardInterrupt",
     "evalue": "",
     "output_type": "error",
     "traceback": [
      "\u001b[0;31m---------------------------------------------------------------------------\u001b[0m",
      "\u001b[0;31mKeyboardInterrupt\u001b[0m                         Traceback (most recent call last)",
      "Cell \u001b[0;32mIn[25], line 32\u001b[0m\n\u001b[1;32m     28\u001b[0m param_grid \u001b[38;5;241m=\u001b[39m {\u001b[38;5;124m'\u001b[39m\u001b[38;5;124mn_estimators\u001b[39m\u001b[38;5;124m'\u001b[39m : np\u001b[38;5;241m.\u001b[39marange(\u001b[38;5;241m200\u001b[39m, \u001b[38;5;241m1201\u001b[39m, \u001b[38;5;241m100\u001b[39m), \u001b[38;5;124m'\u001b[39m\u001b[38;5;124mlearning_rate\u001b[39m\u001b[38;5;124m'\u001b[39m : np\u001b[38;5;241m.\u001b[39marange(\u001b[38;5;241m0.01\u001b[39m, \u001b[38;5;241m0.15\u001b[39m, \u001b[38;5;241m0.02\u001b[39m),\n\u001b[1;32m     29\u001b[0m               \u001b[38;5;124m'\u001b[39m\u001b[38;5;124msubsample\u001b[39m\u001b[38;5;124m'\u001b[39m : [\u001b[38;5;241m0.8\u001b[39m], \u001b[38;5;124m'\u001b[39m\u001b[38;5;124mcolsample_bytree\u001b[39m\u001b[38;5;124m'\u001b[39m : [\u001b[38;5;241m0.8\u001b[39m]}\n\u001b[1;32m     31\u001b[0m grid_xgb \u001b[38;5;241m=\u001b[39m GridSearchCV(xgb, param_grid, verbose \u001b[38;5;241m=\u001b[39m \u001b[38;5;28;01mTrue\u001b[39;00m, scoring\u001b[38;5;241m=\u001b[39m\u001b[38;5;124m'\u001b[39m\u001b[38;5;124mf1\u001b[39m\u001b[38;5;124m'\u001b[39m)\n\u001b[0;32m---> 32\u001b[0m \u001b[43mgrid_xgb\u001b[49m\u001b[38;5;241;43m.\u001b[39;49m\u001b[43mfit\u001b[49m\u001b[43m(\u001b[49m\u001b[43mx_train\u001b[49m\u001b[43m,\u001b[49m\u001b[43m \u001b[49m\u001b[43my_train\u001b[49m\u001b[43m)\u001b[49m\n\u001b[1;32m     34\u001b[0m xgb_params\u001b[38;5;241m.\u001b[39mappend(grid_xgb\u001b[38;5;241m.\u001b[39mbest_params_)\n\u001b[1;32m     36\u001b[0m test_pred \u001b[38;5;241m=\u001b[39m grid_xgb\u001b[38;5;241m.\u001b[39mpredict_proba(x_test)\n",
      "File \u001b[0;32m~/.local/lib/python3.10/site-packages/sklearn/base.py:1474\u001b[0m, in \u001b[0;36m_fit_context.<locals>.decorator.<locals>.wrapper\u001b[0;34m(estimator, *args, **kwargs)\u001b[0m\n\u001b[1;32m   1467\u001b[0m     estimator\u001b[38;5;241m.\u001b[39m_validate_params()\n\u001b[1;32m   1469\u001b[0m \u001b[38;5;28;01mwith\u001b[39;00m config_context(\n\u001b[1;32m   1470\u001b[0m     skip_parameter_validation\u001b[38;5;241m=\u001b[39m(\n\u001b[1;32m   1471\u001b[0m         prefer_skip_nested_validation \u001b[38;5;129;01mor\u001b[39;00m global_skip_validation\n\u001b[1;32m   1472\u001b[0m     )\n\u001b[1;32m   1473\u001b[0m ):\n\u001b[0;32m-> 1474\u001b[0m     \u001b[38;5;28;01mreturn\u001b[39;00m \u001b[43mfit_method\u001b[49m\u001b[43m(\u001b[49m\u001b[43mestimator\u001b[49m\u001b[43m,\u001b[49m\u001b[43m \u001b[49m\u001b[38;5;241;43m*\u001b[39;49m\u001b[43margs\u001b[49m\u001b[43m,\u001b[49m\u001b[43m \u001b[49m\u001b[38;5;241;43m*\u001b[39;49m\u001b[38;5;241;43m*\u001b[39;49m\u001b[43mkwargs\u001b[49m\u001b[43m)\u001b[49m\n",
      "File \u001b[0;32m~/.local/lib/python3.10/site-packages/sklearn/model_selection/_search.py:970\u001b[0m, in \u001b[0;36mBaseSearchCV.fit\u001b[0;34m(self, X, y, **params)\u001b[0m\n\u001b[1;32m    964\u001b[0m     results \u001b[38;5;241m=\u001b[39m \u001b[38;5;28mself\u001b[39m\u001b[38;5;241m.\u001b[39m_format_results(\n\u001b[1;32m    965\u001b[0m         all_candidate_params, n_splits, all_out, all_more_results\n\u001b[1;32m    966\u001b[0m     )\n\u001b[1;32m    968\u001b[0m     \u001b[38;5;28;01mreturn\u001b[39;00m results\n\u001b[0;32m--> 970\u001b[0m \u001b[38;5;28;43mself\u001b[39;49m\u001b[38;5;241;43m.\u001b[39;49m\u001b[43m_run_search\u001b[49m\u001b[43m(\u001b[49m\u001b[43mevaluate_candidates\u001b[49m\u001b[43m)\u001b[49m\n\u001b[1;32m    972\u001b[0m \u001b[38;5;66;03m# multimetric is determined here because in the case of a callable\u001b[39;00m\n\u001b[1;32m    973\u001b[0m \u001b[38;5;66;03m# self.scoring the return type is only known after calling\u001b[39;00m\n\u001b[1;32m    974\u001b[0m first_test_score \u001b[38;5;241m=\u001b[39m all_out[\u001b[38;5;241m0\u001b[39m][\u001b[38;5;124m\"\u001b[39m\u001b[38;5;124mtest_scores\u001b[39m\u001b[38;5;124m\"\u001b[39m]\n",
      "File \u001b[0;32m~/.local/lib/python3.10/site-packages/sklearn/model_selection/_search.py:1527\u001b[0m, in \u001b[0;36mGridSearchCV._run_search\u001b[0;34m(self, evaluate_candidates)\u001b[0m\n\u001b[1;32m   1525\u001b[0m \u001b[38;5;28;01mdef\u001b[39;00m \u001b[38;5;21m_run_search\u001b[39m(\u001b[38;5;28mself\u001b[39m, evaluate_candidates):\n\u001b[1;32m   1526\u001b[0m \u001b[38;5;250m    \u001b[39m\u001b[38;5;124;03m\"\"\"Search all candidates in param_grid\"\"\"\u001b[39;00m\n\u001b[0;32m-> 1527\u001b[0m     \u001b[43mevaluate_candidates\u001b[49m\u001b[43m(\u001b[49m\u001b[43mParameterGrid\u001b[49m\u001b[43m(\u001b[49m\u001b[38;5;28;43mself\u001b[39;49m\u001b[38;5;241;43m.\u001b[39;49m\u001b[43mparam_grid\u001b[49m\u001b[43m)\u001b[49m\u001b[43m)\u001b[49m\n",
      "File \u001b[0;32m~/.local/lib/python3.10/site-packages/sklearn/model_selection/_search.py:916\u001b[0m, in \u001b[0;36mBaseSearchCV.fit.<locals>.evaluate_candidates\u001b[0;34m(candidate_params, cv, more_results)\u001b[0m\n\u001b[1;32m    908\u001b[0m \u001b[38;5;28;01mif\u001b[39;00m \u001b[38;5;28mself\u001b[39m\u001b[38;5;241m.\u001b[39mverbose \u001b[38;5;241m>\u001b[39m \u001b[38;5;241m0\u001b[39m:\n\u001b[1;32m    909\u001b[0m     \u001b[38;5;28mprint\u001b[39m(\n\u001b[1;32m    910\u001b[0m         \u001b[38;5;124m\"\u001b[39m\u001b[38;5;124mFitting \u001b[39m\u001b[38;5;132;01m{0}\u001b[39;00m\u001b[38;5;124m folds for each of \u001b[39m\u001b[38;5;132;01m{1}\u001b[39;00m\u001b[38;5;124m candidates,\u001b[39m\u001b[38;5;124m\"\u001b[39m\n\u001b[1;32m    911\u001b[0m         \u001b[38;5;124m\"\u001b[39m\u001b[38;5;124m totalling \u001b[39m\u001b[38;5;132;01m{2}\u001b[39;00m\u001b[38;5;124m fits\u001b[39m\u001b[38;5;124m\"\u001b[39m\u001b[38;5;241m.\u001b[39mformat(\n\u001b[1;32m    912\u001b[0m             n_splits, n_candidates, n_candidates \u001b[38;5;241m*\u001b[39m n_splits\n\u001b[1;32m    913\u001b[0m         )\n\u001b[1;32m    914\u001b[0m     )\n\u001b[0;32m--> 916\u001b[0m out \u001b[38;5;241m=\u001b[39m \u001b[43mparallel\u001b[49m\u001b[43m(\u001b[49m\n\u001b[1;32m    917\u001b[0m \u001b[43m    \u001b[49m\u001b[43mdelayed\u001b[49m\u001b[43m(\u001b[49m\u001b[43m_fit_and_score\u001b[49m\u001b[43m)\u001b[49m\u001b[43m(\u001b[49m\n\u001b[1;32m    918\u001b[0m \u001b[43m        \u001b[49m\u001b[43mclone\u001b[49m\u001b[43m(\u001b[49m\u001b[43mbase_estimator\u001b[49m\u001b[43m)\u001b[49m\u001b[43m,\u001b[49m\n\u001b[1;32m    919\u001b[0m \u001b[43m        \u001b[49m\u001b[43mX\u001b[49m\u001b[43m,\u001b[49m\n\u001b[1;32m    920\u001b[0m \u001b[43m        \u001b[49m\u001b[43my\u001b[49m\u001b[43m,\u001b[49m\n\u001b[1;32m    921\u001b[0m \u001b[43m        \u001b[49m\u001b[43mtrain\u001b[49m\u001b[38;5;241;43m=\u001b[39;49m\u001b[43mtrain\u001b[49m\u001b[43m,\u001b[49m\n\u001b[1;32m    922\u001b[0m \u001b[43m        \u001b[49m\u001b[43mtest\u001b[49m\u001b[38;5;241;43m=\u001b[39;49m\u001b[43mtest\u001b[49m\u001b[43m,\u001b[49m\n\u001b[1;32m    923\u001b[0m \u001b[43m        \u001b[49m\u001b[43mparameters\u001b[49m\u001b[38;5;241;43m=\u001b[39;49m\u001b[43mparameters\u001b[49m\u001b[43m,\u001b[49m\n\u001b[1;32m    924\u001b[0m \u001b[43m        \u001b[49m\u001b[43msplit_progress\u001b[49m\u001b[38;5;241;43m=\u001b[39;49m\u001b[43m(\u001b[49m\u001b[43msplit_idx\u001b[49m\u001b[43m,\u001b[49m\u001b[43m \u001b[49m\u001b[43mn_splits\u001b[49m\u001b[43m)\u001b[49m\u001b[43m,\u001b[49m\n\u001b[1;32m    925\u001b[0m \u001b[43m        \u001b[49m\u001b[43mcandidate_progress\u001b[49m\u001b[38;5;241;43m=\u001b[39;49m\u001b[43m(\u001b[49m\u001b[43mcand_idx\u001b[49m\u001b[43m,\u001b[49m\u001b[43m \u001b[49m\u001b[43mn_candidates\u001b[49m\u001b[43m)\u001b[49m\u001b[43m,\u001b[49m\n\u001b[1;32m    926\u001b[0m \u001b[43m        \u001b[49m\u001b[38;5;241;43m*\u001b[39;49m\u001b[38;5;241;43m*\u001b[39;49m\u001b[43mfit_and_score_kwargs\u001b[49m\u001b[43m,\u001b[49m\n\u001b[1;32m    927\u001b[0m \u001b[43m    \u001b[49m\u001b[43m)\u001b[49m\n\u001b[1;32m    928\u001b[0m \u001b[43m    \u001b[49m\u001b[38;5;28;43;01mfor\u001b[39;49;00m\u001b[43m \u001b[49m\u001b[43m(\u001b[49m\u001b[43mcand_idx\u001b[49m\u001b[43m,\u001b[49m\u001b[43m \u001b[49m\u001b[43mparameters\u001b[49m\u001b[43m)\u001b[49m\u001b[43m,\u001b[49m\u001b[43m \u001b[49m\u001b[43m(\u001b[49m\u001b[43msplit_idx\u001b[49m\u001b[43m,\u001b[49m\u001b[43m \u001b[49m\u001b[43m(\u001b[49m\u001b[43mtrain\u001b[49m\u001b[43m,\u001b[49m\u001b[43m \u001b[49m\u001b[43mtest\u001b[49m\u001b[43m)\u001b[49m\u001b[43m)\u001b[49m\u001b[43m \u001b[49m\u001b[38;5;129;43;01min\u001b[39;49;00m\u001b[43m \u001b[49m\u001b[43mproduct\u001b[49m\u001b[43m(\u001b[49m\n\u001b[1;32m    929\u001b[0m \u001b[43m        \u001b[49m\u001b[38;5;28;43menumerate\u001b[39;49m\u001b[43m(\u001b[49m\u001b[43mcandidate_params\u001b[49m\u001b[43m)\u001b[49m\u001b[43m,\u001b[49m\n\u001b[1;32m    930\u001b[0m \u001b[43m        \u001b[49m\u001b[38;5;28;43menumerate\u001b[39;49m\u001b[43m(\u001b[49m\u001b[43mcv\u001b[49m\u001b[38;5;241;43m.\u001b[39;49m\u001b[43msplit\u001b[49m\u001b[43m(\u001b[49m\u001b[43mX\u001b[49m\u001b[43m,\u001b[49m\u001b[43m \u001b[49m\u001b[43my\u001b[49m\u001b[43m,\u001b[49m\u001b[43m \u001b[49m\u001b[38;5;241;43m*\u001b[39;49m\u001b[38;5;241;43m*\u001b[39;49m\u001b[43mrouted_params\u001b[49m\u001b[38;5;241;43m.\u001b[39;49m\u001b[43msplitter\u001b[49m\u001b[38;5;241;43m.\u001b[39;49m\u001b[43msplit\u001b[49m\u001b[43m)\u001b[49m\u001b[43m)\u001b[49m\u001b[43m,\u001b[49m\n\u001b[1;32m    931\u001b[0m \u001b[43m    \u001b[49m\u001b[43m)\u001b[49m\n\u001b[1;32m    932\u001b[0m \u001b[43m\u001b[49m\u001b[43m)\u001b[49m\n\u001b[1;32m    934\u001b[0m \u001b[38;5;28;01mif\u001b[39;00m \u001b[38;5;28mlen\u001b[39m(out) \u001b[38;5;241m<\u001b[39m \u001b[38;5;241m1\u001b[39m:\n\u001b[1;32m    935\u001b[0m     \u001b[38;5;28;01mraise\u001b[39;00m \u001b[38;5;167;01mValueError\u001b[39;00m(\n\u001b[1;32m    936\u001b[0m         \u001b[38;5;124m\"\u001b[39m\u001b[38;5;124mNo fits were performed. \u001b[39m\u001b[38;5;124m\"\u001b[39m\n\u001b[1;32m    937\u001b[0m         \u001b[38;5;124m\"\u001b[39m\u001b[38;5;124mWas the CV iterator empty? \u001b[39m\u001b[38;5;124m\"\u001b[39m\n\u001b[1;32m    938\u001b[0m         \u001b[38;5;124m\"\u001b[39m\u001b[38;5;124mWere there no candidates?\u001b[39m\u001b[38;5;124m\"\u001b[39m\n\u001b[1;32m    939\u001b[0m     )\n",
      "File \u001b[0;32m~/.local/lib/python3.10/site-packages/sklearn/utils/parallel.py:67\u001b[0m, in \u001b[0;36mParallel.__call__\u001b[0;34m(self, iterable)\u001b[0m\n\u001b[1;32m     62\u001b[0m config \u001b[38;5;241m=\u001b[39m get_config()\n\u001b[1;32m     63\u001b[0m iterable_with_config \u001b[38;5;241m=\u001b[39m (\n\u001b[1;32m     64\u001b[0m     (_with_config(delayed_func, config), args, kwargs)\n\u001b[1;32m     65\u001b[0m     \u001b[38;5;28;01mfor\u001b[39;00m delayed_func, args, kwargs \u001b[38;5;129;01min\u001b[39;00m iterable\n\u001b[1;32m     66\u001b[0m )\n\u001b[0;32m---> 67\u001b[0m \u001b[38;5;28;01mreturn\u001b[39;00m \u001b[38;5;28;43msuper\u001b[39;49m\u001b[43m(\u001b[49m\u001b[43m)\u001b[49m\u001b[38;5;241;43m.\u001b[39;49m\u001b[38;5;21;43m__call__\u001b[39;49m\u001b[43m(\u001b[49m\u001b[43miterable_with_config\u001b[49m\u001b[43m)\u001b[49m\n",
      "File \u001b[0;32m~/.local/lib/python3.10/site-packages/joblib/parallel.py:1863\u001b[0m, in \u001b[0;36mParallel.__call__\u001b[0;34m(self, iterable)\u001b[0m\n\u001b[1;32m   1861\u001b[0m     output \u001b[38;5;241m=\u001b[39m \u001b[38;5;28mself\u001b[39m\u001b[38;5;241m.\u001b[39m_get_sequential_output(iterable)\n\u001b[1;32m   1862\u001b[0m     \u001b[38;5;28mnext\u001b[39m(output)\n\u001b[0;32m-> 1863\u001b[0m     \u001b[38;5;28;01mreturn\u001b[39;00m output \u001b[38;5;28;01mif\u001b[39;00m \u001b[38;5;28mself\u001b[39m\u001b[38;5;241m.\u001b[39mreturn_generator \u001b[38;5;28;01melse\u001b[39;00m \u001b[38;5;28;43mlist\u001b[39;49m\u001b[43m(\u001b[49m\u001b[43moutput\u001b[49m\u001b[43m)\u001b[49m\n\u001b[1;32m   1865\u001b[0m \u001b[38;5;66;03m# Let's create an ID that uniquely identifies the current call. If the\u001b[39;00m\n\u001b[1;32m   1866\u001b[0m \u001b[38;5;66;03m# call is interrupted early and that the same instance is immediately\u001b[39;00m\n\u001b[1;32m   1867\u001b[0m \u001b[38;5;66;03m# re-used, this id will be used to prevent workers that were\u001b[39;00m\n\u001b[1;32m   1868\u001b[0m \u001b[38;5;66;03m# concurrently finalizing a task from the previous call to run the\u001b[39;00m\n\u001b[1;32m   1869\u001b[0m \u001b[38;5;66;03m# callback.\u001b[39;00m\n\u001b[1;32m   1870\u001b[0m \u001b[38;5;28;01mwith\u001b[39;00m \u001b[38;5;28mself\u001b[39m\u001b[38;5;241m.\u001b[39m_lock:\n",
      "File \u001b[0;32m~/.local/lib/python3.10/site-packages/joblib/parallel.py:1792\u001b[0m, in \u001b[0;36mParallel._get_sequential_output\u001b[0;34m(self, iterable)\u001b[0m\n\u001b[1;32m   1790\u001b[0m \u001b[38;5;28mself\u001b[39m\u001b[38;5;241m.\u001b[39mn_dispatched_batches \u001b[38;5;241m+\u001b[39m\u001b[38;5;241m=\u001b[39m \u001b[38;5;241m1\u001b[39m\n\u001b[1;32m   1791\u001b[0m \u001b[38;5;28mself\u001b[39m\u001b[38;5;241m.\u001b[39mn_dispatched_tasks \u001b[38;5;241m+\u001b[39m\u001b[38;5;241m=\u001b[39m \u001b[38;5;241m1\u001b[39m\n\u001b[0;32m-> 1792\u001b[0m res \u001b[38;5;241m=\u001b[39m \u001b[43mfunc\u001b[49m\u001b[43m(\u001b[49m\u001b[38;5;241;43m*\u001b[39;49m\u001b[43margs\u001b[49m\u001b[43m,\u001b[49m\u001b[43m \u001b[49m\u001b[38;5;241;43m*\u001b[39;49m\u001b[38;5;241;43m*\u001b[39;49m\u001b[43mkwargs\u001b[49m\u001b[43m)\u001b[49m\n\u001b[1;32m   1793\u001b[0m \u001b[38;5;28mself\u001b[39m\u001b[38;5;241m.\u001b[39mn_completed_tasks \u001b[38;5;241m+\u001b[39m\u001b[38;5;241m=\u001b[39m \u001b[38;5;241m1\u001b[39m\n\u001b[1;32m   1794\u001b[0m \u001b[38;5;28mself\u001b[39m\u001b[38;5;241m.\u001b[39mprint_progress()\n",
      "File \u001b[0;32m~/.local/lib/python3.10/site-packages/sklearn/utils/parallel.py:129\u001b[0m, in \u001b[0;36m_FuncWrapper.__call__\u001b[0;34m(self, *args, **kwargs)\u001b[0m\n\u001b[1;32m    127\u001b[0m     config \u001b[38;5;241m=\u001b[39m {}\n\u001b[1;32m    128\u001b[0m \u001b[38;5;28;01mwith\u001b[39;00m config_context(\u001b[38;5;241m*\u001b[39m\u001b[38;5;241m*\u001b[39mconfig):\n\u001b[0;32m--> 129\u001b[0m     \u001b[38;5;28;01mreturn\u001b[39;00m \u001b[38;5;28;43mself\u001b[39;49m\u001b[38;5;241;43m.\u001b[39;49m\u001b[43mfunction\u001b[49m\u001b[43m(\u001b[49m\u001b[38;5;241;43m*\u001b[39;49m\u001b[43margs\u001b[49m\u001b[43m,\u001b[49m\u001b[43m \u001b[49m\u001b[38;5;241;43m*\u001b[39;49m\u001b[38;5;241;43m*\u001b[39;49m\u001b[43mkwargs\u001b[49m\u001b[43m)\u001b[49m\n",
      "File \u001b[0;32m~/.local/lib/python3.10/site-packages/sklearn/model_selection/_validation.py:895\u001b[0m, in \u001b[0;36m_fit_and_score\u001b[0;34m(estimator, X, y, scorer, train, test, verbose, parameters, fit_params, score_params, return_train_score, return_parameters, return_n_test_samples, return_times, return_estimator, split_progress, candidate_progress, error_score)\u001b[0m\n\u001b[1;32m    893\u001b[0m         estimator\u001b[38;5;241m.\u001b[39mfit(X_train, \u001b[38;5;241m*\u001b[39m\u001b[38;5;241m*\u001b[39mfit_params)\n\u001b[1;32m    894\u001b[0m     \u001b[38;5;28;01melse\u001b[39;00m:\n\u001b[0;32m--> 895\u001b[0m         \u001b[43mestimator\u001b[49m\u001b[38;5;241;43m.\u001b[39;49m\u001b[43mfit\u001b[49m\u001b[43m(\u001b[49m\u001b[43mX_train\u001b[49m\u001b[43m,\u001b[49m\u001b[43m \u001b[49m\u001b[43my_train\u001b[49m\u001b[43m,\u001b[49m\u001b[43m \u001b[49m\u001b[38;5;241;43m*\u001b[39;49m\u001b[38;5;241;43m*\u001b[39;49m\u001b[43mfit_params\u001b[49m\u001b[43m)\u001b[49m\n\u001b[1;32m    897\u001b[0m \u001b[38;5;28;01mexcept\u001b[39;00m \u001b[38;5;167;01mException\u001b[39;00m:\n\u001b[1;32m    898\u001b[0m     \u001b[38;5;66;03m# Note fit time as time until error\u001b[39;00m\n\u001b[1;32m    899\u001b[0m     fit_time \u001b[38;5;241m=\u001b[39m time\u001b[38;5;241m.\u001b[39mtime() \u001b[38;5;241m-\u001b[39m start_time\n",
      "File \u001b[0;32m~/.local/lib/python3.10/site-packages/xgboost/core.py:730\u001b[0m, in \u001b[0;36mrequire_keyword_args.<locals>.throw_if.<locals>.inner_f\u001b[0;34m(*args, **kwargs)\u001b[0m\n\u001b[1;32m    728\u001b[0m \u001b[38;5;28;01mfor\u001b[39;00m k, arg \u001b[38;5;129;01min\u001b[39;00m \u001b[38;5;28mzip\u001b[39m(sig\u001b[38;5;241m.\u001b[39mparameters, args):\n\u001b[1;32m    729\u001b[0m     kwargs[k] \u001b[38;5;241m=\u001b[39m arg\n\u001b[0;32m--> 730\u001b[0m \u001b[38;5;28;01mreturn\u001b[39;00m \u001b[43mfunc\u001b[49m\u001b[43m(\u001b[49m\u001b[38;5;241;43m*\u001b[39;49m\u001b[38;5;241;43m*\u001b[39;49m\u001b[43mkwargs\u001b[49m\u001b[43m)\u001b[49m\n",
      "File \u001b[0;32m~/.local/lib/python3.10/site-packages/xgboost/sklearn.py:1519\u001b[0m, in \u001b[0;36mXGBClassifier.fit\u001b[0;34m(self, X, y, sample_weight, base_margin, eval_set, eval_metric, early_stopping_rounds, verbose, xgb_model, sample_weight_eval_set, base_margin_eval_set, feature_weights, callbacks)\u001b[0m\n\u001b[1;32m   1491\u001b[0m (\n\u001b[1;32m   1492\u001b[0m     model,\n\u001b[1;32m   1493\u001b[0m     metric,\n\u001b[0;32m   (...)\u001b[0m\n\u001b[1;32m   1498\u001b[0m     xgb_model, eval_metric, params, early_stopping_rounds, callbacks\n\u001b[1;32m   1499\u001b[0m )\n\u001b[1;32m   1500\u001b[0m train_dmatrix, evals \u001b[38;5;241m=\u001b[39m _wrap_evaluation_matrices(\n\u001b[1;32m   1501\u001b[0m     missing\u001b[38;5;241m=\u001b[39m\u001b[38;5;28mself\u001b[39m\u001b[38;5;241m.\u001b[39mmissing,\n\u001b[1;32m   1502\u001b[0m     X\u001b[38;5;241m=\u001b[39mX,\n\u001b[0;32m   (...)\u001b[0m\n\u001b[1;32m   1516\u001b[0m     feature_types\u001b[38;5;241m=\u001b[39m\u001b[38;5;28mself\u001b[39m\u001b[38;5;241m.\u001b[39mfeature_types,\n\u001b[1;32m   1517\u001b[0m )\n\u001b[0;32m-> 1519\u001b[0m \u001b[38;5;28mself\u001b[39m\u001b[38;5;241m.\u001b[39m_Booster \u001b[38;5;241m=\u001b[39m \u001b[43mtrain\u001b[49m\u001b[43m(\u001b[49m\n\u001b[1;32m   1520\u001b[0m \u001b[43m    \u001b[49m\u001b[43mparams\u001b[49m\u001b[43m,\u001b[49m\n\u001b[1;32m   1521\u001b[0m \u001b[43m    \u001b[49m\u001b[43mtrain_dmatrix\u001b[49m\u001b[43m,\u001b[49m\n\u001b[1;32m   1522\u001b[0m \u001b[43m    \u001b[49m\u001b[38;5;28;43mself\u001b[39;49m\u001b[38;5;241;43m.\u001b[39;49m\u001b[43mget_num_boosting_rounds\u001b[49m\u001b[43m(\u001b[49m\u001b[43m)\u001b[49m\u001b[43m,\u001b[49m\n\u001b[1;32m   1523\u001b[0m \u001b[43m    \u001b[49m\u001b[43mevals\u001b[49m\u001b[38;5;241;43m=\u001b[39;49m\u001b[43mevals\u001b[49m\u001b[43m,\u001b[49m\n\u001b[1;32m   1524\u001b[0m \u001b[43m    \u001b[49m\u001b[43mearly_stopping_rounds\u001b[49m\u001b[38;5;241;43m=\u001b[39;49m\u001b[43mearly_stopping_rounds\u001b[49m\u001b[43m,\u001b[49m\n\u001b[1;32m   1525\u001b[0m \u001b[43m    \u001b[49m\u001b[43mevals_result\u001b[49m\u001b[38;5;241;43m=\u001b[39;49m\u001b[43mevals_result\u001b[49m\u001b[43m,\u001b[49m\n\u001b[1;32m   1526\u001b[0m \u001b[43m    \u001b[49m\u001b[43mobj\u001b[49m\u001b[38;5;241;43m=\u001b[39;49m\u001b[43mobj\u001b[49m\u001b[43m,\u001b[49m\n\u001b[1;32m   1527\u001b[0m \u001b[43m    \u001b[49m\u001b[43mcustom_metric\u001b[49m\u001b[38;5;241;43m=\u001b[39;49m\u001b[43mmetric\u001b[49m\u001b[43m,\u001b[49m\n\u001b[1;32m   1528\u001b[0m \u001b[43m    \u001b[49m\u001b[43mverbose_eval\u001b[49m\u001b[38;5;241;43m=\u001b[39;49m\u001b[43mverbose\u001b[49m\u001b[43m,\u001b[49m\n\u001b[1;32m   1529\u001b[0m \u001b[43m    \u001b[49m\u001b[43mxgb_model\u001b[49m\u001b[38;5;241;43m=\u001b[39;49m\u001b[43mmodel\u001b[49m\u001b[43m,\u001b[49m\n\u001b[1;32m   1530\u001b[0m \u001b[43m    \u001b[49m\u001b[43mcallbacks\u001b[49m\u001b[38;5;241;43m=\u001b[39;49m\u001b[43mcallbacks\u001b[49m\u001b[43m,\u001b[49m\n\u001b[1;32m   1531\u001b[0m \u001b[43m\u001b[49m\u001b[43m)\u001b[49m\n\u001b[1;32m   1533\u001b[0m \u001b[38;5;28;01mif\u001b[39;00m \u001b[38;5;129;01mnot\u001b[39;00m \u001b[38;5;28mcallable\u001b[39m(\u001b[38;5;28mself\u001b[39m\u001b[38;5;241m.\u001b[39mobjective):\n\u001b[1;32m   1534\u001b[0m     \u001b[38;5;28mself\u001b[39m\u001b[38;5;241m.\u001b[39mobjective \u001b[38;5;241m=\u001b[39m params[\u001b[38;5;124m\"\u001b[39m\u001b[38;5;124mobjective\u001b[39m\u001b[38;5;124m\"\u001b[39m]\n",
      "File \u001b[0;32m~/.local/lib/python3.10/site-packages/xgboost/core.py:730\u001b[0m, in \u001b[0;36mrequire_keyword_args.<locals>.throw_if.<locals>.inner_f\u001b[0;34m(*args, **kwargs)\u001b[0m\n\u001b[1;32m    728\u001b[0m \u001b[38;5;28;01mfor\u001b[39;00m k, arg \u001b[38;5;129;01min\u001b[39;00m \u001b[38;5;28mzip\u001b[39m(sig\u001b[38;5;241m.\u001b[39mparameters, args):\n\u001b[1;32m    729\u001b[0m     kwargs[k] \u001b[38;5;241m=\u001b[39m arg\n\u001b[0;32m--> 730\u001b[0m \u001b[38;5;28;01mreturn\u001b[39;00m \u001b[43mfunc\u001b[49m\u001b[43m(\u001b[49m\u001b[38;5;241;43m*\u001b[39;49m\u001b[38;5;241;43m*\u001b[39;49m\u001b[43mkwargs\u001b[49m\u001b[43m)\u001b[49m\n",
      "File \u001b[0;32m~/.local/lib/python3.10/site-packages/xgboost/training.py:181\u001b[0m, in \u001b[0;36mtrain\u001b[0;34m(params, dtrain, num_boost_round, evals, obj, feval, maximize, early_stopping_rounds, evals_result, verbose_eval, xgb_model, callbacks, custom_metric)\u001b[0m\n\u001b[1;32m    179\u001b[0m \u001b[38;5;28;01mif\u001b[39;00m cb_container\u001b[38;5;241m.\u001b[39mbefore_iteration(bst, i, dtrain, evals):\n\u001b[1;32m    180\u001b[0m     \u001b[38;5;28;01mbreak\u001b[39;00m\n\u001b[0;32m--> 181\u001b[0m \u001b[43mbst\u001b[49m\u001b[38;5;241;43m.\u001b[39;49m\u001b[43mupdate\u001b[49m\u001b[43m(\u001b[49m\u001b[43mdtrain\u001b[49m\u001b[43m,\u001b[49m\u001b[43m \u001b[49m\u001b[43mi\u001b[49m\u001b[43m,\u001b[49m\u001b[43m \u001b[49m\u001b[43mobj\u001b[49m\u001b[43m)\u001b[49m\n\u001b[1;32m    182\u001b[0m \u001b[38;5;28;01mif\u001b[39;00m cb_container\u001b[38;5;241m.\u001b[39mafter_iteration(bst, i, dtrain, evals):\n\u001b[1;32m    183\u001b[0m     \u001b[38;5;28;01mbreak\u001b[39;00m\n",
      "File \u001b[0;32m~/.local/lib/python3.10/site-packages/xgboost/core.py:2051\u001b[0m, in \u001b[0;36mBooster.update\u001b[0;34m(self, dtrain, iteration, fobj)\u001b[0m\n\u001b[1;32m   2047\u001b[0m \u001b[38;5;28mself\u001b[39m\u001b[38;5;241m.\u001b[39m_assign_dmatrix_features(dtrain)\n\u001b[1;32m   2049\u001b[0m \u001b[38;5;28;01mif\u001b[39;00m fobj \u001b[38;5;129;01mis\u001b[39;00m \u001b[38;5;28;01mNone\u001b[39;00m:\n\u001b[1;32m   2050\u001b[0m     _check_call(\n\u001b[0;32m-> 2051\u001b[0m         \u001b[43m_LIB\u001b[49m\u001b[38;5;241;43m.\u001b[39;49m\u001b[43mXGBoosterUpdateOneIter\u001b[49m\u001b[43m(\u001b[49m\n\u001b[1;32m   2052\u001b[0m \u001b[43m            \u001b[49m\u001b[38;5;28;43mself\u001b[39;49m\u001b[38;5;241;43m.\u001b[39;49m\u001b[43mhandle\u001b[49m\u001b[43m,\u001b[49m\u001b[43m \u001b[49m\u001b[43mctypes\u001b[49m\u001b[38;5;241;43m.\u001b[39;49m\u001b[43mc_int\u001b[49m\u001b[43m(\u001b[49m\u001b[43miteration\u001b[49m\u001b[43m)\u001b[49m\u001b[43m,\u001b[49m\u001b[43m \u001b[49m\u001b[43mdtrain\u001b[49m\u001b[38;5;241;43m.\u001b[39;49m\u001b[43mhandle\u001b[49m\n\u001b[1;32m   2053\u001b[0m \u001b[43m        \u001b[49m\u001b[43m)\u001b[49m\n\u001b[1;32m   2054\u001b[0m     )\n\u001b[1;32m   2055\u001b[0m \u001b[38;5;28;01melse\u001b[39;00m:\n\u001b[1;32m   2056\u001b[0m     pred \u001b[38;5;241m=\u001b[39m \u001b[38;5;28mself\u001b[39m\u001b[38;5;241m.\u001b[39mpredict(dtrain, output_margin\u001b[38;5;241m=\u001b[39m\u001b[38;5;28;01mTrue\u001b[39;00m, training\u001b[38;5;241m=\u001b[39m\u001b[38;5;28;01mTrue\u001b[39;00m)\n",
      "\u001b[0;31mKeyboardInterrupt\u001b[0m: "
     ]
    }
   ],
   "source": [
    "ratio = df_false.shape[0] // 20\n",
    "xgb_params = []\n",
    "cat_params = []\n",
    "lgbm_params = []\n",
    "grad_params = []\n",
    "rf_params - []\n",
    "# total_xgb_test = pd.DataFrame()\n",
    "# total_cat_test = pd.DataFrame()\n",
    "# total_lgbm_test = pd.DataFrame()\n",
    "total_voting_test = pd.DataFrame()\n",
    "\n",
    "x_test = df_test.drop([\"is_converted\", \"id\"], axis=1)\n",
    "\n",
    "for i in tqdm(range(20)):\n",
    "    if i != 19:\n",
    "        df_f = df_false.iloc[ratio*i:ratio*(i+1)]\n",
    "    elif i == 19:\n",
    "        df_f = df_false.iloc[ratio*i:]\n",
    "    \n",
    "    df_train = pd.concat([df_true, df_f])\n",
    "    \n",
    "    x_train, x_val, y_train, y_val = train_test_split(\n",
    "        df_train.drop([\"is_converted\", 'id'], axis=1),\n",
    "        df_train[\"is_converted\"].astype(int),\n",
    "        test_size=0.2,\n",
    "        random_state=42\n",
    "        )\n",
    "    \n",
    "    ## xgb\n",
    "    xgb = XGBClassifier(random_state=42)\n",
    "    param_grid = {'n_estimators' : np.arange(200, 1201, 100), 'learning_rate' : np.arange(0.01, 0.15, 0.02),\n",
    "                  'subsample' : [0.8], 'colsample_bytree' : [0.8]}\n",
    "\n",
    "    grid_xgb = GridSearchCV(xgb, param_grid, verbose = True, scoring='f1')\n",
    "    grid_xgb.fit(x_train, y_train)\n",
    "    \n",
    "    xgb_params.append(grid_xgb.best_params_)\n",
    "    \n",
    "    test_pred = grid_xgb.predict_proba(x_test)\n",
    "    # total_xgb_test = pd.concat([total_xgb_test, pd.DataFrame(test_pred)], axis = 1)\n",
    "\n",
    "    ## lgbm\n",
    "    lgbm = LGBMClassifier(random_state=42, verbose = 0)\n",
    "    param_grid = {'n_estimators' : np.arange(200, 601, 100), 'learning_rate' : np.arange(0.03, 0.12, 0.02),\n",
    "                  'subsample' : [0.8], 'colsample_bytree' : [0.8]}\n",
    "\n",
    "    grid_lgbm = GridSearchCV(lgbm, param_grid, verbose = True, scoring='f1')\n",
    "    grid_lgbm.fit(x_train, y_train)\n",
    "    \n",
    "    lgbm_params.append(grid_lgbm.best_params_)\n",
    "    \n",
    "    test_pred = grid_lgbm.predict_proba(x_test)\n",
    "    # total_lgbm_test = pd.concat([total_lgbm_test, pd.DataFrame(test_pred)], axis = 1)\n",
    "\n",
    "    ## catboost\n",
    "    cat = CatBoostClassifier(random_state=42, verbose = False)\n",
    "    param_grid = {'iterations' : np.arange(400, 1501, 100), 'learning_rate' : np.arange(0.05, 0.15, 0.02),\n",
    "                  'subsample' : [0.8], 'colsample_bylevel' : [0.8]}\n",
    "\n",
    "    grid_cat = GridSearchCV(cat, param_grid, verbose = True, scoring='f1')\n",
    "    grid_cat.fit(x_train, y_train)\n",
    "    \n",
    "    cat_params.append(grid_cat.best_params_)\n",
    "    \n",
    "    test_pred = grid_cat.predict_proba(x_test)\n",
    "    # total_cat_test = pd.concat([total_cat_test, pd.DataFrame(test_pred)], axis = 1)\n",
    "    \n",
    "    ## randomforest\n",
    "    rf = RandomForestClassifier(random_state=42, verbose = False)\n",
    "    param_grid = {'n_estimators' : np.arange(150, 201, 10),  'max_samples' : [0.8], 'max_features' : [0.8], 'criterion' : [\"gini\", \"entropy\", \"log_loss\"],\n",
    "              'class_weight' : [{0:1, 1:1}]}\n",
    "\n",
    "    grid_rf = GridSearchCV(rf, param_grid, verbose = True, scoring='f1')\n",
    "    grid_rf.fit(x_train, y_train)\n",
    "    \n",
    "    rf_params.append(grid_rf.best_params_)\n",
    "    \n",
    "    test_pred = grid_rf.predict_proba(x_test)\n",
    "    # total_rf_test = pd.concat([total_rf_test, pd.DataFrame(test_pred)], axis = 1)\n",
    "    \n",
    "    ## gradient boosting\n",
    "    grad = GradientBoostingClassifier(random_state=42, verbose = False)\n",
    "    param_grid = {'n_estimators': [1000,1100,1200,1300],'learning_rate': np.arange(0.05, 0.19, 0.02),\n",
    "              'subsample': [0.8], 'max_features': [0.8]}\n",
    "\n",
    "    grid_grad = GridSearchCV(grad, param_grid, verbose = True, scoring='f1')\n",
    "    grid_grad.fit(x_train, y_train)\n",
    "    \n",
    "    grad_params.append(grid_grad.best_params_)\n",
    "    \n",
    "    test_pred = grid_grad.predict_proba(x_test)\n",
    "    # total_grad_test = pd.concat([total_grad_test, pd.DataFrame(test_pred)], axis = 1)\n",
    "    \n",
    "\n",
    "    ## Voting\n",
    "    vote = VotingClassifier(estimators=[('xgb', grid_xgb.best_estimator_),\n",
    "                                        ('lgbm', grid_lgbm.best_estimator_),\n",
    "                                        ('cat', grid_cat.best_estimator_),\n",
    "                                       ('rf', grid_rf.best_estimator_),\n",
    "                                        ('grad', grid_grad.best_estimator_)], voting='soft')\n",
    "\n",
    "    vote.fit(x_train, y_train)\n",
    "    test_pred = vote.predict_proba(x_test)\n",
    "    total_voting_test = pd.concat([total_voting_tset, pd.DataFrame(test_pred)], axis = 1)"
   ]
  },
  {
   "cell_type": "code",
   "execution_count": null,
   "id": "8f724b08",
   "metadata": {},
   "outputs": [],
   "source": [
    "ff = total_voting_test.iloc[:, ::2].mean(axis = 1)\n",
    "tt = total_voting_test.iloc[:, 1::2].mean(axis = 1)\n",
    "\n",
    "result = []\n",
    "for i in range(len(ff)):\n",
    "    if ff[i] > tt[i]: result.append(0)\n",
    "    elif ff[i] < tt[i]: result.append(1)\n",
    "        \n",
    "result = np.array(result)"
   ]
  },
  {
   "cell_type": "code",
   "execution_count": null,
   "id": "c15312fe",
   "metadata": {},
   "outputs": [],
   "source": [
    "# 제출 데이터 읽어오기 (df_test는 전처리된 데이터가 저장됨)\n",
    "df_sub = pd.read_csv(\"submission.csv\")\n",
    "df_sub[\"is_converted\"] = result\n",
    "\n",
    "# 제출 파일 저장\n",
    "df_sub.to_csv(\"submission.csv\", index=False)"
   ]
  }
 ],
 "metadata": {
  "kernelspec": {
   "display_name": "Python 3 (ipykernel)",
   "language": "python",
   "name": "python3"
  },
  "language_info": {
   "codemirror_mode": {
    "name": "ipython",
    "version": 3
   },
   "file_extension": ".py",
   "mimetype": "text/x-python",
   "name": "python",
   "nbconvert_exporter": "python",
   "pygments_lexer": "ipython3",
   "version": "3.9.7"
  }
 },
 "nbformat": 4,
 "nbformat_minor": 5
}
